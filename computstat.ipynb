{
 "cells": [
  {
   "cell_type": "code",
   "execution_count": 1,
   "metadata": {},
   "outputs": [],
   "source": [
    "import pandas as pd"
   ]
  },
  {
   "cell_type": "code",
   "execution_count": 5,
   "metadata": {},
   "outputs": [
    {
     "name": "stdout",
     "output_type": "stream",
     "text": [
      "<class 'pandas.core.frame.DataFrame'>\n",
      "RangeIndex: 356276 entries, 0 to 356275\n",
      "Data columns (total 34 columns):\n",
      " #   Column  Non-Null Count   Dtype  \n",
      "---  ------  --------------   -----  \n",
      " 0   permno  356276 non-null  int64  \n",
      " 1   caldt   356276 non-null  object \n",
      " 2   fyear   356272 non-null  float64\n",
      " 3   act     258623 non-null  float64\n",
      " 4   ap      290512 non-null  float64\n",
      " 5   at      308384 non-null  float64\n",
      " 6   capx    286360 non-null  float64\n",
      " 7   ceq     299447 non-null  float64\n",
      " 8   che     305517 non-null  float64\n",
      " 9   cogs    305690 non-null  float64\n",
      " 10  dlc     304580 non-null  float64\n",
      " 11  dltt    307076 non-null  float64\n",
      " 12  dp      294548 non-null  float64\n",
      " 13  dvp     307580 non-null  float64\n",
      " 14  ebit    297422 non-null  float64\n",
      " 15  ebitda  299870 non-null  float64\n",
      " 16  emp     287233 non-null  float64\n",
      " 17  ib      307900 non-null  float64\n",
      " 18  invt    299551 non-null  float64\n",
      " 19  lt      305456 non-null  float64\n",
      " 20  prca    94002 non-null   float64\n",
      " 21  pstk    302517 non-null  float64\n",
      " 22  lct     262327 non-null  float64\n",
      " 23  pstkl   307773 non-null  float64\n",
      " 24  pstkrv  307744 non-null  float64\n",
      " 25  rect    299711 non-null  float64\n",
      " 26  revt    307200 non-null  float64\n",
      " 27  txditc  276567 non-null  float64\n",
      " 28  seq     298129 non-null  float64\n",
      " 29  xint    271120 non-null  float64\n",
      " 30  xad     104674 non-null  float64\n",
      " 31  xrd     142822 non-null  float64\n",
      " 32  xsga    254933 non-null  float64\n",
      " 33  gvkey   356276 non-null  int64  \n",
      "dtypes: float64(31), int64(2), object(1)\n",
      "memory usage: 92.4+ MB\n"
     ]
    },
    {
     "ename": "AttributeError",
     "evalue": "'NoneType' object has no attribute 'parse_dates'",
     "output_type": "error",
     "traceback": [
      "\u001b[0;31m---------------------------------------------------------------------------\u001b[0m",
      "\u001b[0;31mAttributeError\u001b[0m                            Traceback (most recent call last)",
      "Cell \u001b[0;32mIn[5], line 2\u001b[0m\n\u001b[1;32m      1\u001b[0m df \u001b[39m=\u001b[39m pd\u001b[39m.\u001b[39mread_csv(\u001b[39m'\u001b[39m\u001b[39mdata/cst.csv\u001b[39m\u001b[39m'\u001b[39m)\u001b[39m.\u001b[39minfo()\n\u001b[0;32m----> 2\u001b[0m df\u001b[39m.\u001b[39;49mparse_dates([\u001b[39m'\u001b[39m\u001b[39mcaldt\u001b[39m\u001b[39m'\u001b[39m])\n",
      "\u001b[0;31mAttributeError\u001b[0m: 'NoneType' object has no attribute 'parse_dates'"
     ]
    }
   ],
   "source": [
    "df = pd.read_csv('data/cst.csv').info()"
   ]
  },
  {
   "cell_type": "code",
   "execution_count": 6,
   "metadata": {},
   "outputs": [
    {
     "ename": "TypeError",
     "evalue": "'NoneType' object is not subscriptable",
     "output_type": "error",
     "traceback": [
      "\u001b[0;31m---------------------------------------------------------------------------\u001b[0m",
      "\u001b[0;31mTypeError\u001b[0m                                 Traceback (most recent call last)",
      "Cell \u001b[0;32mIn[6], line 1\u001b[0m\n\u001b[0;32m----> 1\u001b[0m df[\u001b[39m'\u001b[39;49m\u001b[39mcaldt\u001b[39;49m\u001b[39m'\u001b[39;49m]\u001b[39m.\u001b[39mparse_dates()\n",
      "\u001b[0;31mTypeError\u001b[0m: 'NoneType' object is not subscriptable"
     ]
    }
   ],
   "source": [
    "pd.to"
   ]
  },
  {
   "cell_type": "code",
   "execution_count": null,
   "metadata": {},
   "outputs": [],
   "source": []
  }
 ],
 "metadata": {
  "kernelspec": {
   "display_name": "base",
   "language": "python",
   "name": "python3"
  },
  "language_info": {
   "codemirror_mode": {
    "name": "ipython",
    "version": 3
   },
   "file_extension": ".py",
   "mimetype": "text/x-python",
   "name": "python",
   "nbconvert_exporter": "python",
   "pygments_lexer": "ipython3",
   "version": "3.9.16"
  },
  "orig_nbformat": 4
 },
 "nbformat": 4,
 "nbformat_minor": 2
}
