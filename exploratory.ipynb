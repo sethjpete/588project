{
 "cells": [
  {
   "cell_type": "code",
   "execution_count": 5,
   "metadata": {},
   "outputs": [],
   "source": [
    "import pandas as pd\n",
    "import numpy as np\n",
    "import json\n",
    "from pandas.tseries.offsets import MonthEnd"
   ]
  },
  {
   "cell_type": "code",
   "execution_count": 6,
   "metadata": {},
   "outputs": [
    {
     "data": {
      "text/plain": [
       "{'Portfolios_Formed_on_INV.CSV': {'skip': 17, 'lines': 716},\n",
       " '49_Industry_Portfolios.CSV': {'skip': 1, 'lines': 1160},\n",
       " '10_Portfolios_ST_Reversal.CSV': {'skip': 10, 'lines': 1165},\n",
       " 'Portfolios_Formed_on_CF-P.CSV': {'skip': 18, 'lines': 860},\n",
       " 'Portfolios_Formed_on_AC.CSV': {'skip': 17, 'lines': 716},\n",
       " 'Portfolios_Formed_on_BETA.CSV': {'skip': 15, 'lines': 716},\n",
       " 'Portfolios_Formed_on_NI.CSV': {'skip': 16, 'lines': 716},\n",
       " '10_Portfolios_LT_Reversal.CSV': {'skip': 10, 'lines': 1106},\n",
       " '10_Industry_Portfolios.CSV': {'skip': 11, 'lines': 1160},\n",
       " 'Portfolios_Formed_on_D-P.CSV': {'skip': 19, 'lines': 1148},\n",
       " 'Portfolios_Formed_on_OP.CSV': {'skip': 24, 'lines': 716},\n",
       " 'Portfolios_Formed_on_VAR.CSV': {'skip': 16, 'lines': 716},\n",
       " 'Portfolios_Formed_on_MOM.CSV': {'skip': 10, 'lines': 1154},\n",
       " 'Portfolios_Formed_on_E-P.CSV': {'skip': 17, 'lines': 860}}"
      ]
     },
     "execution_count": 6,
     "metadata": {},
     "output_type": "execute_result"
    }
   ],
   "source": [
    "dir = json.load(open('data/data.json'))\n",
    "dir"
   ]
  },
  {
   "cell_type": "code",
   "execution_count": 7,
   "metadata": {},
   "outputs": [],
   "source": [
    "dfs = []\n",
    "for file in dir:\n",
    "    df = pd.read_csv('data/' + file, skiprows=dir[file]['skip'], nrows=dir[file]['lines'], index_col=0)\n",
    "    df['caldt'] = pd.to_datetime(df.index, format='%Y%m', errors='coerce') + MonthEnd(0)\n",
    "    df = df.query(\"caldt >= '1963-07-31'\")\n",
    "    df = df.reset_index(drop=True)\n",
    "    df.name = file[:-4]\n",
    "    dfs.append(df)"
   ]
  },
  {
   "cell_type": "code",
   "execution_count": 11,
   "metadata": {},
   "outputs": [
    {
     "name": "stdout",
     "output_type": "stream",
     "text": [
      "0: Portfolios_Formed_on_INV\n",
      "    (716, 19)\n",
      "1: 49_Industry_Portfolios\n",
      "    (716, 50)\n",
      "2: 10_Portfolios_ST_Reversal\n",
      "    (716, 11)\n",
      "3: Portfolios_Formed_on_CF-P\n",
      "    (716, 20)\n",
      "4: Portfolios_Formed_on_AC\n",
      "    (716, 16)\n",
      "5: Portfolios_Formed_on_BETA\n",
      "    (716, 16)\n",
      "6: Portfolios_Formed_on_NI\n",
      "    (716, 18)\n",
      "7: 10_Portfolios_LT_Reversal\n",
      "    (716, 11)\n",
      "8: 10_Industry_Portfolios\n",
      "    (716, 11)\n",
      "9: Portfolios_Formed_on_D-P\n",
      "    (716, 20)\n",
      "10: Portfolios_Formed_on_OP\n",
      "    (716, 19)\n",
      "11: Portfolios_Formed_on_VAR\n",
      "    (716, 16)\n",
      "12: Portfolios_Formed_on_MOM\n",
      "    (716, 11)\n",
      "13: Portfolios_Formed_on_E-P\n",
      "    (716, 20)\n"
     ]
    }
   ],
   "source": [
    "for idx, df in enumerate(dfs):\n",
    "    print(f\"{idx}: {df.name}\")\n",
    "    print(\"   \", df.shape)"
   ]
  },
  {
   "cell_type": "code",
   "execution_count": null,
   "metadata": {},
   "outputs": [],
   "source": [
    "\"\"\"\n",
    "All files have the same number of rows, but different number of columns, as expected.\n",
    "This is great for our analysis!\n",
    "\"\"\""
   ]
  }
 ],
 "metadata": {
  "kernelspec": {
   "display_name": "base",
   "language": "python",
   "name": "python3"
  },
  "language_info": {
   "codemirror_mode": {
    "name": "ipython",
    "version": 3
   },
   "file_extension": ".py",
   "mimetype": "text/x-python",
   "name": "python",
   "nbconvert_exporter": "python",
   "pygments_lexer": "ipython3",
   "version": "3.9.16"
  },
  "orig_nbformat": 4
 },
 "nbformat": 4,
 "nbformat_minor": 2
}
