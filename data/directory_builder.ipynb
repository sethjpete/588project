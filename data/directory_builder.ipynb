{
 "cells": [
  {
   "cell_type": "code",
   "execution_count": 1,
   "metadata": {},
   "outputs": [],
   "source": [
    "import pandas as pd\n",
    "import os"
   ]
  },
  {
   "cell_type": "code",
   "execution_count": 3,
   "metadata": {},
   "outputs": [
    {
     "data": {
      "text/plain": [
       "['Portfolios_Formed_on_INV.CSV',\n",
       " '49_Industry_Portfolios.CSV',\n",
       " '10_Portfolios_ST_Reversal.CSV',\n",
       " 'Portfolios_Formed_on_CF-P.CSV',\n",
       " 'Portfolios_Formed_on_AC.CSV',\n",
       " 'Portfolios_Formed_on_BETA.CSV',\n",
       " 'Portfolios_Formed_on_NI.CSV',\n",
       " 'Portfolios_Formed_on_ME.CSV',\n",
       " '10_Portfolios_LT_Reversal.CSV',\n",
       " '10_Industry_Portfolios.CSV',\n",
       " 'Portfolios_Formed_on_D-P.CSV',\n",
       " 'Portfolios_Formed_on_OP.CSV',\n",
       " 'Portfolios_Formed_on_VAR.CSV',\n",
       " 'Portfolios_Formed_on_MOM.CSV',\n",
       " 'Portfolios_Formed_on_BE-ME.CSV',\n",
       " 'Portfolios_Formed_on_E-P.CSV']"
      ]
     },
     "execution_count": 3,
     "metadata": {},
     "output_type": "execute_result"
    }
   ],
   "source": [
    "# Find all files in folder\n",
    "def find_files(folder):\n",
    "    files = []\n",
    "    for file in os.listdir(folder):\n",
    "        if file.endswith(\".CSV\"):\n",
    "            files.append(file)\n",
    "    return files\n",
    "\n",
    "# Create a list of all files in folder\n",
    "files = find_files('/Users/sethjpete/Documents/Econ 588/Project/data')\n",
    "files"
   ]
  },
  {
   "cell_type": "code",
   "execution_count": 4,
   "metadata": {},
   "outputs": [],
   "source": [
    "dir = {}\n",
    "for file in files:\n",
    "    # Read in data as a line\n",
    "    skip = 0\n",
    "    lines = 0\n",
    "    with open(file) as f:\n",
    "        lines = f.readlines()\n",
    "        for idx,line in enumerate(lines):\n",
    "            if 'Value Weight' in line and 'Monthly' in line and skip == 0:\n",
    "                skip = idx + 1\n",
    "            if idx >= skip and skip != 0:\n",
    "                if line == '\\n':\n",
    "                    lines = idx - skip - 1\n",
    "                    dir[file] = {'skip': skip, 'lines': lines}\n",
    "                    break"
   ]
  },
  {
   "cell_type": "code",
   "execution_count": 5,
   "metadata": {},
   "outputs": [],
   "source": [
    "import json\n",
    "\n",
    "with open('data.json', 'w') as fp:\n",
    "    json.dump(dir, fp)"
   ]
  },
  {
   "cell_type": "code",
   "execution_count": null,
   "metadata": {},
   "outputs": [],
   "source": []
  }
 ],
 "metadata": {
  "kernelspec": {
   "display_name": "base",
   "language": "python",
   "name": "python3"
  },
  "language_info": {
   "codemirror_mode": {
    "name": "ipython",
    "version": 3
   },
   "file_extension": ".py",
   "mimetype": "text/x-python",
   "name": "python",
   "nbconvert_exporter": "python",
   "pygments_lexer": "ipython3",
   "version": "3.9.16"
  },
  "orig_nbformat": 4
 },
 "nbformat": 4,
 "nbformat_minor": 2
}
